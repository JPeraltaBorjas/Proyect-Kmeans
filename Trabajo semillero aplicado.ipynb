{
 "cells": [
  {
   "cell_type": "code",
   "execution_count": 2,
   "metadata": {},
   "outputs": [],
   "source": [
    "# K-Means Clustering\n",
    "\n",
    "# Importacion de librerias\n",
    "import numpy as np\n",
    "import matplotlib.pyplot as plt\n",
    "import pandas as pd\n",
    "from sklearn.cluster import KMeans"
   ]
  },
  {
   "cell_type": "code",
   "execution_count": 3,
   "metadata": {},
   "outputs": [],
   "source": [
    "def new_list(X): #FUNCION PARA DEVOLVER LA MISMA LISTA SIN DATOS ATÍPICOS\n",
    "    \n",
    "    p25 = np.quantile(X, 0.25) #Te devuelve el cuartil 1 de una lista\n",
    "    p75 = np.quantile(X, 0.75) #Te devuelve el cuartil 3 de una lista\n",
    "    inter_rang = p75-p25 #Calcula el rango intercuantil\n",
    "    maximo = p75+(1.5*inter_rang) #Calcula el maximo de los datos a escoger\n",
    "\n",
    "    n = len(X) #Numero de elementos de la lista\n",
    "    eleg = []\n",
    "\n",
    "    for i in range (n):\n",
    "        if(X[i] != 0 and X[i]<=maximo):\n",
    "            eleg.append(X[i]) #Agrega a la lista vacia elementos FUERA DE LOS ATIPICOS\n",
    "    eleg.sort() #Ordena la lista\n",
    "    #print(eleg)\n",
    "    return(eleg) #Retorna una lista"
   ]
  },
  {
   "cell_type": "code",
   "execution_count": 4,
   "metadata": {},
   "outputs": [],
   "source": [
    "def kmedias(X,Y,Z):\n",
    "    \n",
    "    print(\"------------------------------------------------------------------\")\n",
    "    if X == []:\n",
    "        print(\"No hay datos a graficar en {}: {}\".format(Y,Z))\n",
    "    else:    \n",
    "        wcss = []\n",
    "        for i in range(2, 11):\n",
    "#             kmeans = KMeans(n_clusters = i, init = 'k-means++', random_state = 42)\n",
    "            kmeans = KMeans(n_clusters = i, max_iter = 10)\n",
    "            kmeans.fit(X)\n",
    "            wcss.append((kmeans.inertia_)/len(X))\n",
    "#         print(wcss)  \n",
    "        for i in range(9):\n",
    "            print('K = {} -> {:.2f}'.format(i+2, wcss[i]))\n",
    "            \n",
    "        # Grafica de la suma de las distancias\n",
    "        plt.plot(range(2,11),wcss,'.-')\n",
    "        plt.title('{}: {}'.format(Y,Z))\n",
    "        plt.xlabel('Number of clusters')\n",
    "        plt.ylabel('WCSS')\n",
    "        plt.grid()\n",
    "        plt.show()"
   ]
  },
  {
   "cell_type": "code",
   "execution_count": 5,
   "metadata": {
    "scrolled": true
   },
   "outputs": [
    {
     "name": "stdout",
     "output_type": "stream",
     "text": [
      "En CANAL.xlsx, se encuentran las pestañas:\n"
     ]
    },
    {
     "ename": "ImportError",
     "evalue": "Missing optional dependency 'openpyxl'.  Use pip or conda to install openpyxl.",
     "output_type": "error",
     "traceback": [
      "\u001b[1;31m---------------------------------------------------------------------------\u001b[0m",
      "\u001b[1;31mModuleNotFoundError\u001b[0m                       Traceback (most recent call last)",
      "File \u001b[1;32mc:\\Users\\PERALTA\\AppData\\Local\\Programs\\Python\\Python312\\Lib\\site-packages\\pandas\\compat\\_optional.py:132\u001b[0m, in \u001b[0;36mimport_optional_dependency\u001b[1;34m(name, extra, errors, min_version)\u001b[0m\n\u001b[0;32m    131\u001b[0m \u001b[39mtry\u001b[39;00m:\n\u001b[1;32m--> 132\u001b[0m     module \u001b[39m=\u001b[39m importlib\u001b[39m.\u001b[39;49mimport_module(name)\n\u001b[0;32m    133\u001b[0m \u001b[39mexcept\u001b[39;00m \u001b[39mImportError\u001b[39;00m:\n",
      "File \u001b[1;32mc:\\Users\\PERALTA\\AppData\\Local\\Programs\\Python\\Python312\\Lib\\importlib\\__init__.py:90\u001b[0m, in \u001b[0;36mimport_module\u001b[1;34m(name, package)\u001b[0m\n\u001b[0;32m     89\u001b[0m         level \u001b[39m+\u001b[39m\u001b[39m=\u001b[39m \u001b[39m1\u001b[39m\n\u001b[1;32m---> 90\u001b[0m \u001b[39mreturn\u001b[39;00m _bootstrap\u001b[39m.\u001b[39;49m_gcd_import(name[level:], package, level)\n",
      "File \u001b[1;32m<frozen importlib._bootstrap>:1381\u001b[0m, in \u001b[0;36m_gcd_import\u001b[1;34m(name, package, level)\u001b[0m\n",
      "File \u001b[1;32m<frozen importlib._bootstrap>:1354\u001b[0m, in \u001b[0;36m_find_and_load\u001b[1;34m(name, import_)\u001b[0m\n",
      "File \u001b[1;32m<frozen importlib._bootstrap>:1318\u001b[0m, in \u001b[0;36m_find_and_load_unlocked\u001b[1;34m(name, import_)\u001b[0m\n",
      "\u001b[1;31mModuleNotFoundError\u001b[0m: No module named 'openpyxl'",
      "\nDuring handling of the above exception, another exception occurred:\n",
      "\u001b[1;31mImportError\u001b[0m                               Traceback (most recent call last)",
      "\u001b[1;32md:\\Disco D\\Users\\Jay Peralta\\Documents\\Ing Financiera - UDEM\\Semillero Aplicado\\Semillero Aplicado\\Trabajo semillero aplicado.ipynb Cell 4\u001b[0m line \u001b[0;36m5\n\u001b[0;32m      <a href='vscode-notebook-cell:/d%3A/Disco%20D/Users/Jay%20Peralta/Documents/Ing%20Financiera%20-%20UDEM/Semillero%20Aplicado/Semillero%20Aplicado/Trabajo%20semillero%20aplicado.ipynb#W3sZmlsZQ%3D%3D?line=1'>2</a>\u001b[0m base \u001b[39m=\u001b[39m base \u001b[39m+\u001b[39m \u001b[39m'\u001b[39m\u001b[39m.xlsx\u001b[39m\u001b[39m'\u001b[39m\n\u001b[0;32m      <a href='vscode-notebook-cell:/d%3A/Disco%20D/Users/Jay%20Peralta/Documents/Ing%20Financiera%20-%20UDEM/Semillero%20Aplicado/Semillero%20Aplicado/Trabajo%20semillero%20aplicado.ipynb#W3sZmlsZQ%3D%3D?line=2'>3</a>\u001b[0m \u001b[39mprint\u001b[39m(\u001b[39m'\u001b[39m\u001b[39mEn \u001b[39m\u001b[39m{}\u001b[39;00m\u001b[39m, se encuentran las pestañas:\u001b[39m\u001b[39m'\u001b[39m\u001b[39m.\u001b[39mformat(base))\n\u001b[1;32m----> <a href='vscode-notebook-cell:/d%3A/Disco%20D/Users/Jay%20Peralta/Documents/Ing%20Financiera%20-%20UDEM/Semillero%20Aplicado/Semillero%20Aplicado/Trabajo%20semillero%20aplicado.ipynb#W3sZmlsZQ%3D%3D?line=4'>5</a>\u001b[0m nom_pest \u001b[39m=\u001b[39m pd\u001b[39m.\u001b[39;49mExcelFile(base)\u001b[39m.\u001b[39msheet_names \u001b[39m#Pone los nombres de las pestañas del excel en una lista\u001b[39;00m\n\u001b[0;32m      <a href='vscode-notebook-cell:/d%3A/Disco%20D/Users/Jay%20Peralta/Documents/Ing%20Financiera%20-%20UDEM/Semillero%20Aplicado/Semillero%20Aplicado/Trabajo%20semillero%20aplicado.ipynb#W3sZmlsZQ%3D%3D?line=5'>6</a>\u001b[0m \u001b[39m# print(nom_pest[5])\u001b[39;00m\n\u001b[0;32m      <a href='vscode-notebook-cell:/d%3A/Disco%20D/Users/Jay%20Peralta/Documents/Ing%20Financiera%20-%20UDEM/Semillero%20Aplicado/Semillero%20Aplicado/Trabajo%20semillero%20aplicado.ipynb#W3sZmlsZQ%3D%3D?line=6'>7</a>\u001b[0m n \u001b[39m=\u001b[39m \u001b[39mlen\u001b[39m(nom_pest)\n",
      "File \u001b[1;32mc:\\Users\\PERALTA\\AppData\\Local\\Programs\\Python\\Python312\\Lib\\site-packages\\pandas\\io\\excel\\_base.py:1580\u001b[0m, in \u001b[0;36mExcelFile.__init__\u001b[1;34m(self, path_or_buffer, engine, storage_options, engine_kwargs)\u001b[0m\n\u001b[0;32m   1577\u001b[0m \u001b[39mself\u001b[39m\u001b[39m.\u001b[39mengine \u001b[39m=\u001b[39m engine\n\u001b[0;32m   1578\u001b[0m \u001b[39mself\u001b[39m\u001b[39m.\u001b[39mstorage_options \u001b[39m=\u001b[39m storage_options\n\u001b[1;32m-> 1580\u001b[0m \u001b[39mself\u001b[39m\u001b[39m.\u001b[39m_reader \u001b[39m=\u001b[39m \u001b[39mself\u001b[39;49m\u001b[39m.\u001b[39;49m_engines[engine](\n\u001b[0;32m   1581\u001b[0m     \u001b[39mself\u001b[39;49m\u001b[39m.\u001b[39;49m_io,\n\u001b[0;32m   1582\u001b[0m     storage_options\u001b[39m=\u001b[39;49mstorage_options,\n\u001b[0;32m   1583\u001b[0m     engine_kwargs\u001b[39m=\u001b[39;49mengine_kwargs,\n\u001b[0;32m   1584\u001b[0m )\n",
      "File \u001b[1;32mc:\\Users\\PERALTA\\AppData\\Local\\Programs\\Python\\Python312\\Lib\\site-packages\\pandas\\io\\excel\\_openpyxl.py:552\u001b[0m, in \u001b[0;36mOpenpyxlReader.__init__\u001b[1;34m(self, filepath_or_buffer, storage_options, engine_kwargs)\u001b[0m\n\u001b[0;32m    534\u001b[0m \u001b[39m@doc\u001b[39m(storage_options\u001b[39m=\u001b[39m_shared_docs[\u001b[39m\"\u001b[39m\u001b[39mstorage_options\u001b[39m\u001b[39m\"\u001b[39m])\n\u001b[0;32m    535\u001b[0m \u001b[39mdef\u001b[39;00m \u001b[39m__init__\u001b[39m(\n\u001b[0;32m    536\u001b[0m     \u001b[39mself\u001b[39m,\n\u001b[1;32m   (...)\u001b[0m\n\u001b[0;32m    539\u001b[0m     engine_kwargs: \u001b[39mdict\u001b[39m \u001b[39m|\u001b[39m \u001b[39mNone\u001b[39;00m \u001b[39m=\u001b[39m \u001b[39mNone\u001b[39;00m,\n\u001b[0;32m    540\u001b[0m ) \u001b[39m-\u001b[39m\u001b[39m>\u001b[39m \u001b[39mNone\u001b[39;00m:\n\u001b[0;32m    541\u001b[0m \u001b[39m    \u001b[39m\u001b[39m\"\"\"\u001b[39;00m\n\u001b[0;32m    542\u001b[0m \u001b[39m    Reader using openpyxl engine.\u001b[39;00m\n\u001b[0;32m    543\u001b[0m \n\u001b[1;32m   (...)\u001b[0m\n\u001b[0;32m    550\u001b[0m \u001b[39m        Arbitrary keyword arguments passed to excel engine.\u001b[39;00m\n\u001b[0;32m    551\u001b[0m \u001b[39m    \"\"\"\u001b[39;00m\n\u001b[1;32m--> 552\u001b[0m     import_optional_dependency(\u001b[39m\"\u001b[39;49m\u001b[39mopenpyxl\u001b[39;49m\u001b[39m\"\u001b[39;49m)\n\u001b[0;32m    553\u001b[0m     \u001b[39msuper\u001b[39m()\u001b[39m.\u001b[39m\u001b[39m__init__\u001b[39m(\n\u001b[0;32m    554\u001b[0m         filepath_or_buffer,\n\u001b[0;32m    555\u001b[0m         storage_options\u001b[39m=\u001b[39mstorage_options,\n\u001b[0;32m    556\u001b[0m         engine_kwargs\u001b[39m=\u001b[39mengine_kwargs,\n\u001b[0;32m    557\u001b[0m     )\n",
      "File \u001b[1;32mc:\\Users\\PERALTA\\AppData\\Local\\Programs\\Python\\Python312\\Lib\\site-packages\\pandas\\compat\\_optional.py:135\u001b[0m, in \u001b[0;36mimport_optional_dependency\u001b[1;34m(name, extra, errors, min_version)\u001b[0m\n\u001b[0;32m    133\u001b[0m \u001b[39mexcept\u001b[39;00m \u001b[39mImportError\u001b[39;00m:\n\u001b[0;32m    134\u001b[0m     \u001b[39mif\u001b[39;00m errors \u001b[39m==\u001b[39m \u001b[39m\"\u001b[39m\u001b[39mraise\u001b[39m\u001b[39m\"\u001b[39m:\n\u001b[1;32m--> 135\u001b[0m         \u001b[39mraise\u001b[39;00m \u001b[39mImportError\u001b[39;00m(msg)\n\u001b[0;32m    136\u001b[0m     \u001b[39mreturn\u001b[39;00m \u001b[39mNone\u001b[39;00m\n\u001b[0;32m    138\u001b[0m \u001b[39m# Handle submodules: if we have submodule, grab parent module from sys.modules\u001b[39;00m\n",
      "\u001b[1;31mImportError\u001b[0m: Missing optional dependency 'openpyxl'.  Use pip or conda to install openpyxl."
     ]
    }
   ],
   "source": [
    "\n",
    "base = input('Ingrese nombre la base de datos por segmentación (en mayuscula): ')\n",
    "base = base + '.xlsx'\n",
    "print('En {}, se encuentran las pestañas:'.format(base))\n",
    "\n",
    "nom_pest = pd.ExcelFile(base).sheet_names #Pone los nombres de las pestañas del excel en una lista\n",
    "# print(nom_pest[5])\n",
    "n = len(nom_pest)\n",
    "# print(n)\n",
    "\n",
    "for i in range (n):\n",
    "    print('  {}. {}'.format(i+1,nom_pest[i]))\n",
    "\n",
    "elec = int(input('Elija una pestaña para la grafica por el metodo del codo, para que se grafiquen todo otro numero: '))\n",
    "elec = elec-1\n",
    "\n",
    "if elec >=0 and elec < n:\n",
    "    dataset = pd.read_excel(base, sheet_name = nom_pest[elec])\n",
    "    Y = ['Número de Débitos', 'Suma de Débitos', 'Número de Créditos', 'Suma de Créditos']\n",
    "    \n",
    "    for i in range (4):\n",
    "        X = dataset.iloc[:,[i]].values\n",
    "        kmedias(new_list(X),nom_pest[elec],Y[i])\n",
    "else:\n",
    "#     elem=[]\n",
    "    for i in range (n):\n",
    "#         dataset = 0\n",
    "        print(\"\\n\\nCATEGORIA - {}\".format(nom_pest[i]))\n",
    "        dataset = pd.read_excel(base, sheet_name = nom_pest[i])\n",
    "        for j in range (4):\n",
    "            X = dataset.iloc[:,[j]].values\n",
    "            kmedias(new_list(X),nom_pest[i],Y[j])\n",
    "#         elem.append(dataset\n",
    "#     print(elem)"
   ]
  }
 ],
 "metadata": {
  "kernelspec": {
   "display_name": "Python 3",
   "language": "python",
   "name": "python3"
  },
  "language_info": {
   "codemirror_mode": {
    "name": "ipython",
    "version": 3
   },
   "file_extension": ".py",
   "mimetype": "text/x-python",
   "name": "python",
   "nbconvert_exporter": "python",
   "pygments_lexer": "ipython3",
   "version": "3.12.0"
  }
 },
 "nbformat": 4,
 "nbformat_minor": 2
}
